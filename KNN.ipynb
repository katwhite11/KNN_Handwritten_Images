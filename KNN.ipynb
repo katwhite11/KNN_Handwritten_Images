{
  "nbformat": 4,
  "nbformat_minor": 0,
  "metadata": {
    "colab": {
      "provenance": []
    },
    "kernelspec": {
      "name": "python3",
      "display_name": "Python 3"
    },
    "language_info": {
      "name": "python"
    }
  },
  "cells": [
    {
      "cell_type": "code",
      "execution_count": null,
      "metadata": {
        "id": "FALPpCx5GMVP"
      },
      "outputs": [],
      "source": [
        "from sklearn.datasets import load_digits\n",
        "from sklearn.metrics import accuracy_score\n",
        "import numpy as np\n",
        "import matplotlib.pyplot as plt"
      ]
    },
    {
      "cell_type": "markdown",
      "source": [
        "#### Load Data"
      ],
      "metadata": {
        "id": "R9UCeaVoHkTy"
      }
    },
    {
      "cell_type": "code",
      "source": [
        "# loading data\n",
        "digitsData = load_digits()\n",
        "\n",
        "X = digitsData.data\n",
        "y = digitsData.target\n",
        "\n",
        "# Converts y to 2d array to be appended to X\n",
        "y = np.expand_dims(y, 1)\n",
        "\n",
        "#X = digitsData.images.reshape((len(digitsData.images)), -1)"
      ],
      "metadata": {
        "id": "W8Mh6I4OGzbo"
      },
      "execution_count": null,
      "outputs": []
    },
    {
      "cell_type": "markdown",
      "source": [
        "#### Shuffle Dataset"
      ],
      "metadata": {
        "id": "WBA_8YjqlRhu"
      }
    },
    {
      "cell_type": "code",
      "source": [
        "# Creates a new dataset with target appended at end for further classification\n",
        "data = np.append(X, y, 1)\n",
        "\n",
        "# Shuffles rows only\n",
        "np.random.shuffle(data)"
      ],
      "metadata": {
        "id": "kLwe2DPulOK_"
      },
      "execution_count": null,
      "outputs": []
    },
    {
      "cell_type": "markdown",
      "source": [
        "#### Train dataset"
      ],
      "metadata": {
        "id": "2bfghHxO0_XZ"
      }
    },
    {
      "cell_type": "code",
      "source": [
        "# Stores the total number of samples\n",
        "total_sample = len(data)\n",
        "\n",
        "# Sets our train/dev/test splits\n",
        "train = data[:int(total_sample*0.70)]\n",
        "dev = data[int(total_sample*0.70):int(total_sample*0.85)]\n",
        "test = data[int(total_sample*0.85):]\n",
        ""
      ],
      "metadata": {
        "id": "QkhzK0_R1nWj"
      },
      "execution_count": null,
      "outputs": []
    },
    {
      "cell_type": "markdown",
      "source": [
        "#### Check Data Leaks"
      ],
      "metadata": {
        "id": "KVLRQjEv4u3F"
      }
    },
    {
      "cell_type": "code",
      "source": [
        "# Checks duplicate data between train/dev/test sets\n",
        "def data_leaking_check(data1, data2):\n",
        "  data_leaking = False\n",
        "  for d1 in data1:\n",
        "    for d2 in data2:\n",
        "      if(np.array_equal(d1, d2)):\n",
        "        data_leaking = True\n",
        "        print(\"Find same sample: \")\n",
        "        print(d1)\n",
        "  if(not data_leaking):\n",
        "    print(\"No Data Leaking!\")\n",
        "\n",
        "# Calls function to test data set:\n",
        "# data_leaking_check(train,test)"
      ],
      "metadata": {
        "id": "5HvXDsPa3iuU"
      },
      "execution_count": null,
      "outputs": []
    },
    {
      "cell_type": "markdown",
      "source": [
        "#### Assigns Features and Labels"
      ],
      "metadata": {
        "id": "NHS0BuDT45lF"
      }
    },
    {
      "cell_type": "code",
      "source": [
        "# Assigns specific colums to features and labels (last column of the dataset)\n",
        "def get_features_and_labels(data):\n",
        "  features = data[:, :-1]\n",
        "  labels = data[:, -1]\n",
        "  return features, labels\n",
        "\n",
        "# Sets train/dev/test X and y to the features and labels of each set\n",
        "train_X, train_y = get_features_and_labels(train)\n",
        "dev_X, dev_y = get_features_and_labels(dev)\n",
        "test_X, test_y = get_features_and_labels(test)\n"
      ],
      "metadata": {
        "id": "JVujsWfl498Z"
      },
      "execution_count": null,
      "outputs": []
    },
    {
      "cell_type": "markdown",
      "source": [
        "#### Euclidean Distance"
      ],
      "metadata": {
        "id": "z_bssdYD60hN"
      }
    },
    {
      "cell_type": "code",
      "source": [
        "# Calculates Euclidean distance between two rows given to the function\n",
        "def euclidean_distance(row1, row2):\n",
        "  distance = 0.0\n",
        "  for i in range(len(row1)-1):\n",
        "    distance += (row1[i] - row2[i]) ** 2\n",
        "  return np.sqrt(distance)"
      ],
      "metadata": {
        "id": "bsiWWbyx62lE"
      },
      "execution_count": null,
      "outputs": []
    },
    {
      "cell_type": "markdown",
      "source": [
        "#### KNearestNeighbors"
      ],
      "metadata": {
        "id": "yvQRML8o714I"
      }
    },
    {
      "cell_type": "code",
      "source": [
        "# Finds the nearest neighbors in a given set to the specific data\n",
        "def get_neighbors(train_X, train_y, test_row, num_neighbors):\n",
        "  distances = []\n",
        "\n",
        "  # Gets all distances\n",
        "  for index in range(len(train_X)):\n",
        "    train_row = train_X[index]\n",
        "    train_label = train_y[index]\n",
        "    dist = euclidean_distance(train_row, test_row)\n",
        "    distances.append((train_row, train_label, dist))\n",
        "\n",
        "  # Sorts the distance list\n",
        "  distances.sort(key=lambda i: i[2])\n",
        "\n",
        "  output_neighbors = [] # features\n",
        "  output_labels = [] #labels\n",
        "  output_distances = [] #distances\n",
        "\n",
        "  # Gets the K Nearest Neighbor and returns it\n",
        "  for index in range(num_neighbors):\n",
        "    output_neighbors.append(distances[index][0])\n",
        "    output_labels.append(distances[index][1])\n",
        "    output_distances.append(distances[index][2])\n",
        "\n",
        "  return output_neighbors, output_labels, output_distances\n"
      ],
      "metadata": {
        "id": "HOwj18gj77m9"
      },
      "execution_count": null,
      "outputs": []
    },
    {
      "cell_type": "markdown",
      "source": [
        "#### Predictions"
      ],
      "metadata": {
        "id": "mnKnbs4kLsRz"
      }
    },
    {
      "cell_type": "code",
      "source": [
        "# Predicts the classification (hand written digit) by receiving training data\n",
        "def prediction(train_X, train_y, test_row, num_neighbors):\n",
        "  output_neighbors, output_labels, output_distances = get_neighbors(train_X, train_y, test_row, num_neighbors)\n",
        "  label_cnt = np.bincount(output_labels)\n",
        "  prediction = np.argmax(label_cnt)\n",
        "  return prediction"
      ],
      "metadata": {
        "id": "LAkkBQweLvZ6"
      },
      "execution_count": null,
      "outputs": []
    },
    {
      "cell_type": "markdown",
      "source": [
        "#### K Value Testing"
      ],
      "metadata": {
        "id": "Eg99zkCUSM0p"
      }
    },
    {
      "cell_type": "code",
      "source": [
        "# k_list = list(range(1, 100, 2))\n",
        "# performance = []\n",
        "\n",
        "# for k in k_list:\n",
        "#   pred_labels = []\n",
        "#   for dev_data in dev_X:\n",
        "#     pred = prediction(train_X, train_y, dev_data, k)\n",
        "#     pred_labels.append(pred)\n",
        "#   accuracy = accuracy_score(dev_y, pred_labels)\n",
        "#   performance.append(accuracy)\n",
        "\n",
        "# print(performance)\n"
      ],
      "metadata": {
        "id": "_Vr7T4n1SQjy"
      },
      "execution_count": null,
      "outputs": []
    },
    {
      "cell_type": "markdown",
      "source": [
        "#### K Value Testing Plot"
      ],
      "metadata": {
        "id": "p5V6boSpXePC"
      }
    },
    {
      "cell_type": "code",
      "source": [
        "# # Plots figure\n",
        "# plt.figure(figsize=(20, 6))\n",
        "# plt.plot(k_list, performance)\n",
        "# plt.plot(k_list, performance, \"o\")\n",
        "# plt.xlabel(\"K Values\")\n",
        "# plt.ylabel(\"Accuracy\")\n",
        "# plt.title(\"Performance on Dev Set\")"
      ],
      "metadata": {
        "id": "PvANid5CS92R"
      },
      "execution_count": null,
      "outputs": []
    },
    {
      "cell_type": "markdown",
      "source": [
        "#### Accuracy Rating"
      ],
      "metadata": {
        "id": "Xior7bLhSEvM"
      }
    },
    {
      "cell_type": "code",
      "source": [
        "k = 10\n",
        "pred_labels = []\n",
        "for test_data in test_X:\n",
        "  pred = prediction(train_X, train_y, test_data, k)\n",
        "  pred_labels.append(pred)\n",
        "accuracy = accuracy_score(test_y, pred_labels)\n",
        "print(accuracy)"
      ],
      "metadata": {
        "id": "Pb0QZo4xXr3c"
      },
      "execution_count": null,
      "outputs": []
    },
    {
      "cell_type": "code",
      "source": [
        "print(test_y[109:119])\n",
        "print(pred_labels[109:119])"
      ],
      "metadata": {
        "colab": {
          "base_uri": "https://localhost:8080/"
        },
        "id": "PDH_OkCv37dl",
        "outputId": "a8aa41fb-ffe9-42ba-9e44-14260120a8c7"
      },
      "execution_count": null,
      "outputs": [
        {
          "output_type": "stream",
          "name": "stdout",
          "text": [
            "[0. 3. 1. 7. 9. 0. 2. 4. 9. 8.]\n",
            "[0, 3, 1, 7, 9, 0, 2, 4, 9, 8]\n"
          ]
        }
      ]
    }
  ]
}